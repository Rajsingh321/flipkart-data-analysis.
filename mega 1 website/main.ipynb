{
 "cells": [
  {
   "cell_type": "code",
   "execution_count": 1,
   "id": "67f73e76-d18b-454d-9422-fa62666efbd6",
   "metadata": {},
   "outputs": [],
   "source": [
    "import pandas as pd\n",
    "import streamlit as st\n",
    "from PIL import Image\n",
    "import os"
   ]
  },
  {
   "cell_type": "code",
   "execution_count": 7,
   "id": "d4198788-2042-4750-a902-de68fae6cddd",
   "metadata": {},
   "outputs": [],
   "source": [
    "st.title(\"Flipkart Product Analysis\")\n",
    "data = pd.read_csv(\"flipkart_products_20250405.csv\")"
   ]
  },
  {
   "cell_type": "code",
   "execution_count": 9,
   "id": "f56d2924-172c-46b0-8dec-53d829425010",
   "metadata": {},
   "outputs": [],
   "source": [
    "st.subheader(\"Data preview\")\n",
    "st.write(data.head(10))\n",
    "\n",
    "st.subheader(\"Data Description\")\n",
    "st.table(data.describe())\n",
    "insights =\"\"\"Product-Wise Sales:\n",
    "Certain products (e.g., Canon ink, Fellowes folders) contribute disproportionately to total sales—top 3 products dominate the chart.\n",
    "\n",
    "Sub-Category Analysis:\n",
    "Phones, Chairs, and Storage drive the highest sales within sub-categories. Copiers and Bookcases underperform.\n",
    "\n",
    "Profitability Gaps:\n",
    "While some products like Canon ink are both high in sales and profits, others generate sales but contribute little or even negative profit.\n",
    "\n",
    "Category Performance:\n",
    "Technology leads in total sales, followed by Furniture and Office Supplies. However, Office Supplies show more stable profits.\n",
    "\n",
    "Profit Margin Breakdown:\n",
    "A large chunk of profit is generated from Technology and Office Supplies, while Furniture has thinner margins overall.\n",
    "\n",
    "High Loss Products:\n",
    "Several products show extremely negative profit margins (up to -275%), signaling urgent attention for pricing or promotional review.\n",
    "\n",
    "Discount Sensitivity:\n",
    "Profit drastically drops at discounts above 0.3. There's a sweet spot where discounting drives sales without killing margins.\n",
    "\n",
    "Discount by Category:\n",
    "Office Supplies benefit the most from discounts, but too much discounting wipes out margins.\n",
    "\n",
    "Time-Series Trends:\n",
    "Monthly sales peak around November (likely due to holidays), while yearly trends show steady upward growth from 2015 onward.\n",
    "\n",
    "Profit Drivers:\n",
    "Copiers and Accessories are top contributors to profit, while some product lines consistently lose money.\n",
    "\n",
    "\"\"\"\n",
    "st.subheader(\"📜Insights\")\n",
    "st.write(insights)\n"
   ]
  },
  {
   "cell_type": "code",
   "execution_count": 13,
   "id": "2b85f8c9-390b-4180-aefd-4e2a283598aa",
   "metadata": {},
   "outputs": [],
   "source": [
    "try:\n",
    "    img = Image.open(\"page 1\")\n",
    "    st.image(img, caption=\"📄 Page 1\", use_column_width=True)\n",
    "except FileNotFoundError:\n",
    "    st.warning(\" \")"
   ]
  },
  {
   "cell_type": "code",
   "execution_count": 23,
   "id": "67b99648-08e1-4633-b5cc-d28ae552627d",
   "metadata": {},
   "outputs": [],
   "source": [
    "try:\n",
    "    img = Image.open(\"page 2\")\n",
    "    st.image(img, caption=\"📄 Page 2\", use_column_width=True)\n",
    "except FileNotFoundError:\n",
    "    st.warning(\" \")"
   ]
  },
  {
   "cell_type": "code",
   "execution_count": 25,
   "id": "e55ec1ef-8265-431e-b726-082e92eaac98",
   "metadata": {},
   "outputs": [],
   "source": [
    "try:\n",
    "    img = Image.open(\"page 3\")\n",
    "    st.image(img, caption=\"📄 Page 3\", use_column_width=True)\n",
    "except FileNotFoundError:\n",
    "    st.warning(\" \")"
   ]
  },
  {
   "cell_type": "code",
   "execution_count": 21,
   "id": "450f1efb-3830-4ffe-a364-8169a014508e",
   "metadata": {},
   "outputs": [],
   "source": [
    "try:\n",
    "    img = Image.open(\"page 4\")\n",
    "    st.image(img, caption=\"📄 Page 4\", use_column_width=True)\n",
    "except FileNotFoundError:\n",
    "    st.warning(\" \")"
   ]
  },
  {
   "cell_type": "code",
   "execution_count": null,
   "id": "aa59e67e-c9ba-4271-babd-8dff7d18c5f4",
   "metadata": {},
   "outputs": [],
   "source": []
  }
 ],
 "metadata": {
  "kernelspec": {
   "display_name": "Python [conda env:base] *",
   "language": "python",
   "name": "conda-base-py"
  },
  "language_info": {
   "codemirror_mode": {
    "name": "ipython",
    "version": 3
   },
   "file_extension": ".py",
   "mimetype": "text/x-python",
   "name": "python",
   "nbconvert_exporter": "python",
   "pygments_lexer": "ipython3",
   "version": "3.12.7"
  }
 },
 "nbformat": 4,
 "nbformat_minor": 5
}
